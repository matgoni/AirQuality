{
 "cells": [
  {
   "cell_type": "markdown",
   "metadata": {},
   "source": [
    "# Comparación de modelos"
   ]
  },
  {
   "cell_type": "code",
   "execution_count": 4,
   "metadata": {},
   "outputs": [],
   "source": [
    "import sys\n",
    "sys.path.append('../src')\n",
    "\n",
    "from modelos import split_data, train_svm, train_random_forest, evaluate_model\n"
   ]
  },
  {
   "cell_type": "code",
   "execution_count": 5,
   "metadata": {},
   "outputs": [],
   "source": [
    "# Ruta del archivo de datos preprocesados\n",
    "file_path = '../data/data_scaled.csv'\n",
    "\n",
    "# Dividir los datos en entrenamiento y prueba\n",
    "X_train, X_test, y_train, y_test = split_data(file_path)"
   ]
  },
  {
   "cell_type": "code",
   "execution_count": 6,
   "metadata": {},
   "outputs": [
    {
     "name": "stdout",
     "output_type": "stream",
     "text": [
      "\n",
      "Evaluando SVM con kernel: linear\n",
      "Validación cruzada (SVM con kernel linear): [0.96412214 0.96870229 0.97251908 0.96946565 0.97402597]\n",
      "Informe de Clasificación:\n",
      "               precision    recall  f1-score   support\n",
      "\n",
      "        Alto       0.98      0.99      0.99      1895\n",
      "        Bajo       0.95      0.87      0.91       159\n",
      "    Moderado       0.94      0.95      0.95       754\n",
      "\n",
      "    accuracy                           0.97      2808\n",
      "   macro avg       0.96      0.94      0.95      2808\n",
      "weighted avg       0.97      0.97      0.97      2808\n",
      "\n",
      "Exactitud: 0.9715099715099715\n",
      "Matriz de Confusión:\n",
      " [[1871    0   24]\n",
      " [   0  139   20]\n",
      " [  29    7  718]]\n",
      "\n",
      "Evaluando SVM con kernel: poly\n",
      "Validación cruzada (SVM con kernel poly): [0.9221374  0.91526718 0.93206107 0.93282443 0.92742552]\n",
      "Informe de Clasificación:\n",
      "               precision    recall  f1-score   support\n",
      "\n",
      "        Alto       0.92      0.99      0.95      1895\n",
      "        Bajo       0.95      0.87      0.90       159\n",
      "    Moderado       0.95      0.77      0.85       754\n",
      "\n",
      "    accuracy                           0.93      2808\n",
      "   macro avg       0.94      0.88      0.90      2808\n",
      "weighted avg       0.93      0.93      0.92      2808\n",
      "\n",
      "Exactitud: 0.9259259259259259\n",
      "Matriz de Confusión:\n",
      " [[1885    0   10]\n",
      " [   0  138   21]\n",
      " [ 169    8  577]]\n",
      "\n",
      "Evaluando SVM con kernel: rbf\n",
      "Validación cruzada (SVM con kernel rbf): [0.95877863 0.97022901 0.97251908 0.96870229 0.97020626]\n",
      "Informe de Clasificación:\n",
      "               precision    recall  f1-score   support\n",
      "\n",
      "        Alto       0.99      0.99      0.99      1895\n",
      "        Bajo       0.94      0.86      0.90       159\n",
      "    Moderado       0.95      0.96      0.96       754\n",
      "\n",
      "    accuracy                           0.98      2808\n",
      "   macro avg       0.96      0.94      0.95      2808\n",
      "weighted avg       0.98      0.98      0.98      2808\n",
      "\n",
      "Exactitud: 0.9757834757834758\n",
      "Matriz de Confusión:\n",
      " [[1881    0   14]\n",
      " [   0  137   22]\n",
      " [  24    8  722]]\n"
     ]
    }
   ],
   "source": [
    "# Entrenar y evaluar SVM con diferentes kernels\n",
    "kernels = ['linear', 'poly', 'rbf']\n",
    "for kernel in kernels:\n",
    "    print(f\"\\nEvaluando SVM con kernel: {kernel}\")\n",
    "    svm_model, svm_cv_scores = train_svm(X_train, y_train, kernel=kernel)\n",
    "    print(f\"Validación cruzada (SVM con kernel {kernel}): {svm_cv_scores}\")\n",
    "    evaluate_model(svm_model, X_test, y_test)"
   ]
  },
  {
   "cell_type": "code",
   "execution_count": 7,
   "metadata": {},
   "outputs": [
    {
     "name": "stdout",
     "output_type": "stream",
     "text": [
      "\n",
      "Evaluando Random Forest con n_estimators=100, max_depth=None\n",
      "Validación cruzada (Random Forest n_estimators=100, max_depth=None): [0.99923664 0.99541985 1.         0.99923664 0.99618029]\n",
      "Informe de Clasificación:\n",
      "               precision    recall  f1-score   support\n",
      "\n",
      "        Alto       1.00      1.00      1.00      1895\n",
      "        Bajo       0.98      0.99      0.98       159\n",
      "    Moderado       1.00      0.99      1.00       754\n",
      "\n",
      "    accuracy                           1.00      2808\n",
      "   macro avg       0.99      0.99      0.99      2808\n",
      "weighted avg       1.00      1.00      1.00      2808\n",
      "\n",
      "Exactitud: 0.9975071225071225\n",
      "Matriz de Confusión:\n",
      " [[1895    0    0]\n",
      " [   0  157    2]\n",
      " [   1    4  749]]\n",
      "\n",
      "Evaluando Random Forest con n_estimators=200, max_depth=10\n",
      "Validación cruzada (Random Forest n_estimators=200, max_depth=10): [0.99847328 0.99923664 0.99923664 1.         0.99618029]\n",
      "Informe de Clasificación:\n",
      "               precision    recall  f1-score   support\n",
      "\n",
      "        Alto       1.00      1.00      1.00      1895\n",
      "        Bajo       0.98      0.99      0.98       159\n",
      "    Moderado       1.00      0.99      1.00       754\n",
      "\n",
      "    accuracy                           1.00      2808\n",
      "   macro avg       0.99      0.99      0.99      2808\n",
      "weighted avg       1.00      1.00      1.00      2808\n",
      "\n",
      "Exactitud: 0.9978632478632479\n",
      "Matriz de Confusión:\n",
      " [[1895    0    0]\n",
      " [   0  157    2]\n",
      " [   1    3  750]]\n",
      "\n",
      "Evaluando Random Forest con n_estimators=200, max_depth=20\n",
      "Validación cruzada (Random Forest n_estimators=200, max_depth=20): [0.99923664 0.99923664 1.         1.         0.99694423]\n",
      "Informe de Clasificación:\n",
      "               precision    recall  f1-score   support\n",
      "\n",
      "        Alto       1.00      1.00      1.00      1895\n",
      "        Bajo       0.98      0.99      0.98       159\n",
      "    Moderado       1.00      0.99      1.00       754\n",
      "\n",
      "    accuracy                           1.00      2808\n",
      "   macro avg       0.99      0.99      0.99      2808\n",
      "weighted avg       1.00      1.00      1.00      2808\n",
      "\n",
      "Exactitud: 0.9978632478632479\n",
      "Matriz de Confusión:\n",
      " [[1895    0    0]\n",
      " [   0  157    2]\n",
      " [   1    3  750]]\n"
     ]
    }
   ],
   "source": [
    "# Entrenar y evaluar Random Forest con diferentes configuraciones\n",
    "rf_configurations = [(100, None), (200, 10), (200, 20)]\n",
    "for n_estimators, max_depth in rf_configurations:\n",
    "    print(f\"\\nEvaluando Random Forest con n_estimators={n_estimators}, max_depth={max_depth}\")\n",
    "    rf_model, rf_cv_scores = train_random_forest(X_train, y_train, n_estimators=n_estimators, max_depth=max_depth)\n",
    "    print(f\"Validación cruzada (Random Forest n_estimators={n_estimators}, max_depth={max_depth}): {rf_cv_scores}\")\n",
    "    evaluate_model(rf_model, X_test, y_test)"
   ]
  }
 ],
 "metadata": {
  "kernelspec": {
   "display_name": "Python 3",
   "language": "python",
   "name": "python3"
  },
  "language_info": {
   "codemirror_mode": {
    "name": "ipython",
    "version": 3
   },
   "file_extension": ".py",
   "mimetype": "text/x-python",
   "name": "python",
   "nbconvert_exporter": "python",
   "pygments_lexer": "ipython3",
   "version": "3.12.1"
  }
 },
 "nbformat": 4,
 "nbformat_minor": 2
}
