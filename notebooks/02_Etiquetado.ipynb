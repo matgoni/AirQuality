{
 "cells": [
  {
   "cell_type": "markdown",
   "metadata": {},
   "source": [
    "# Clasificación de Niveles de Riesgo de Calidad del Aire\n",
    "\n",
    "Para clasificar los niveles de riesgo de la calidad del aire en las categorías de **Bajo**, **Moderado** y **Alto**, es fundamental establecer umbrales basados en las concentraciones de los contaminantes presentes. A continuación, se detallan los contaminantes y sus respectivos umbrales según las **Directrices Mundiales de la OMS sobre la Calidad del Aire** y otras fuentes reconocidas:\n",
    "\n",
    "### 1. Monóxido de Carbono (CO)\n",
    "- **Umbrales según la OMS**:\n",
    "  - Promedio de 24 horas: 7 mg/m³ (7000 µg/m³)\n",
    "  - Promedio de 8 horas: 10 mg/m³ (10000 µg/m³)\n",
    "- **Nota**: Los valores en el conjunto de datos están en µg/m³.\n",
    "\n",
    "### 2. Dióxido de Nitrógeno (NO₂)\n",
    "- **Umbrales según la OMS**:\n",
    "  - Promedio anual: 10 µg/m³\n",
    "  - Promedio de 24 horas: 25 µg/m³\n",
    "\n",
    "### 3. Óxidos de Nitrógeno (NOx)\n",
    "- **Referencias**:\n",
    "  - No hay un umbral específico establecido por la OMS para NOx en conjunto.\n",
    "  - Sin embargo, se considera que concentraciones elevadas de NOx pueden ser perjudiciales para la salud.\n",
    "\n",
    "### 4. Benceno (C₆H₆)\n",
    "- **Umbrales según la OMS**:\n",
    "  - La OMS indica que no existe un nivel seguro de exposición al benceno y recomienda minimizar la exposición tanto como sea posible.\n",
    "\n",
    "### 5. Hidrocarburos No Metánicos (NMHC)\n",
    "- **Referencias**:\n",
    "  - No hay umbrales específicos establecidos por la OMS para NMHC.\n",
    "  - Sin embargo, niveles elevados pueden contribuir a la formación de ozono troposférico y afectar la salud.\n",
    "\n",
    "### 6. Sensores de Calidad del Aire (PT08.S1 a PT08.S5)\n",
    "- **Referencias**:\n",
    "  - Estos son valores de sensores específicos y no corresponden directamente a concentraciones estándar de contaminantes.\n",
    "  - Se recomienda calibrar estos sensores con datos de referencia para establecer umbrales adecuados."
   ]
  },
  {
   "cell_type": "markdown",
   "metadata": {},
   "source": [
    "\n",
    "### Referencias\n",
    "\n",
    "1. **Organización Mundial de la Salud (OMS)**. Directrices Mundiales de la OMS sobre la Calidad del Aire 2021. Disponible en: [OMS - Calidad del Aire](https://www.who.int/news-room/fact-sheets/detail/ambient-(outdoor)-air-quality-and-health)\n",
    "\n",
    "2. **United States Environmental Protection Agency (EPA)**. Standards for Carbon Monoxide (CO), Nitrogen Dioxide (NO2), and Benzene (C6H6). Disponible en: [EPA - Air Quality Standards](https://www.epa.gov/)\n",
    "\n",
    "3. **Air Quality Guidelines** - European Union (UE) Directive 2008/50/EC on Ambient Air Quality. Disponible en: [EU Ambient Air Quality Standards](https://eur-lex.europa.eu/legal-content/EN/TXT/?uri=celex:32008L0050)\n",
    "\n",
    "4. **Environmental Canada**. National Ambient Air Quality Objectives. Disponible en: [Environment and Climate Change Canada](https://www.canada.ca/en/environment-climate-change.html)"
   ]
  },
  {
   "cell_type": "markdown",
   "metadata": {},
   "source": [
    "## Propuesta de Clasificación de Riesgo\n",
    "\n",
    "Basándonos en los umbrales mencionados, se propone la siguiente clasificación de riesgo para cada contaminante:\n",
    "\n",
    "### Monóxido de Carbono (CO)\n",
    "\n",
    "- **Bajo**: CO < 2 µg/m³\n",
    "- **Moderado**: 2 µg/m³ ≤ CO < 6 µg/m³\n",
    "- **Alto**: CO ≥ 6 µg/m³\n",
    "\n",
    "### Dióxido de Nitrógeno (NO₂)\n",
    "\n",
    "- **Bajo**: NO₂ < 50 µg/m³\n",
    "- **Moderado**: 50 µg/m³ ≤ NO₂ < 100 µg/m³\n",
    "- **Alto**: NO₂ ≥ 100 µg/m³\n",
    "\n",
    "### Óxidos de Nitrógeno (NOx)\n",
    "\n",
    "- **Bajo**: NOx < 100 µg/m³\n",
    "- **Moderado**: 100 µg/m³ ≤ NOx < 300 µg/m³\n",
    "- **Alto**: NOx ≥ 300 µg/m³\n",
    "\n",
    "### Benceno (C₆H₆)\n",
    "\n",
    "- **Bajo**: C₆H₆ < 5 µg/m³\n",
    "- **Moderado**: 5 µg/m³ ≤ C₆H₆ < 15 µg/m³\n",
    "- **Alto**: C₆H₆ ≥ 15 µg/m³\n",
    "\n",
    "### Hidrocarburos No Metánicos (NMHC)\n",
    "\n",
    "- **Bajo**: NMHC < 500 µg/m³\n",
    "- **Moderado**: 500 µg/m³ ≤ NMHC < 1500 µg/m³\n",
    "- **Alto**: NMHC ≥ 1500 µg/m³"
   ]
  },
  {
   "cell_type": "markdown",
   "metadata": {},
   "source": [
    "## Estrategia de Clasificación General de Riesgo\n",
    "El nivel de riesgo general de un registro se determina en función de la frecuencia del nivel de riesgo entre todos los contaminantes:\n",
    "\n",
    "- **Bajo**: La mayoría de los contaminantes están en nivel Bajo.\n",
    "- **Moderado**: La mayoría de los contaminantes están en nivel Moderado o hay una mezcla significativa de niveles Bajo y Moderado.\n",
    "- **Alto**: Uno o más contaminantes están en nivel Alto, o si la mayoría están en nivel Moderado."
   ]
  },
  {
   "cell_type": "code",
   "execution_count": 9,
   "metadata": {},
   "outputs": [],
   "source": [
    "import pandas as pd\n",
    "import numpy as np\n",
    "import matplotlib.pyplot as plt\n",
    "import seaborn as sns"
   ]
  },
  {
   "cell_type": "code",
   "execution_count": 2,
   "metadata": {},
   "outputs": [],
   "source": [
    "# Impoirtar datos limpios\n",
    "df = pd.read_csv(\"../data/data_clean.csv\", sep=',')"
   ]
  },
  {
   "cell_type": "code",
   "execution_count": 6,
   "metadata": {},
   "outputs": [],
   "source": [
    "def asignar_puntuacion(valor, bajo, moderado):\n",
    "    if valor < bajo:\n",
    "        return 1  # Bajo\n",
    "    elif bajo <= valor < moderado:\n",
    "        return 2  # Moderado\n",
    "    else:\n",
    "        return 3  # Alto\n",
    "\n",
    "# Asignar puntuación basada en los umbrales para cada contaminante\n",
    "df['CO_score'] = df['CO(GT)'].apply(asignar_puntuacion, args=(2, 6))\n",
    "df['NO2_score'] = df['NO2(GT)'].apply(asignar_puntuacion, args=(50, 100))\n",
    "df['NOx_score'] = df['NOx(GT)'].apply(asignar_puntuacion, args=(100, 300))\n",
    "df['C6H6_score'] = df['C6H6(GT)'].apply(asignar_puntuacion, args=(5, 15))\n",
    "df['NMHC_score'] = df['PT08.S2(NMHC)'].apply(asignar_puntuacion, args=(500, 1500))"
   ]
  },
  {
   "cell_type": "code",
   "execution_count": 16,
   "metadata": {},
   "outputs": [],
   "source": [
    "# Función para asignar el nivel de riesgo general basado en la regla de mayoría\n",
    "def clasificar_por_mayoria(row):\n",
    "    # Contar cuántos contaminantes están en cada nivel de riesgo\n",
    "    bajo = [row['CO_score'], row['NO2_score'], row['NOx_score'], row['C6H6_score'], row['NMHC_score']].count(1)\n",
    "    moderado = [row['CO_score'], row['NO2_score'], row['NOx_score'], row['C6H6_score'], row['NMHC_score']].count(2)\n",
    "    alto = [row['CO_score'], row['NO2_score'], row['NOx_score'], row['C6H6_score'], row['NMHC_score']].count(3)\n",
    "    \n",
    "    # Asignar el nivel de riesgo general basado en la mayoría\n",
    "    if alto >= 1:  \n",
    "        return 'Alto'\n",
    "    elif moderado >= 2:\n",
    "        return 'Moderado'\n",
    "    else:\n",
    "        return 'Bajo'\n",
    "\n",
    "df['Riesgo'] = df.apply(clasificar_por_mayoria, axis=1)"
   ]
  },
  {
   "cell_type": "code",
   "execution_count": 8,
   "metadata": {},
   "outputs": [
    {
     "name": "stdout",
     "output_type": "stream",
     "text": [
      "Riesgo\n",
      "Alto        6315\n",
      "Moderado    2514\n",
      "Bajo         528\n",
      "Name: count, dtype: int64\n"
     ]
    }
   ],
   "source": [
    "print(df['Riesgo'].value_counts())"
   ]
  },
  {
   "cell_type": "code",
   "execution_count": 11,
   "metadata": {},
   "outputs": [
    {
     "data": {
      "image/png": "[encoded data removed]",
      "text/plain": [
       "<Figure size 640x480 with 1 Axes>"
      ]
     },
     "metadata": {},
     "output_type": "display_data"
    }
   ],
   "source": [
    "# Visualizar la distribución de las etiquetas de riesgo\n",
    "sns.countplot(x='Riesgo', data=df, order=['Bajo', 'Moderado', 'Alto'])\n",
    "plt.title('Distribución de Niveles de Riesgo de Calidad del Aire')\n",
    "plt.show()"
   ]
  },
  {
   "cell_type": "markdown",
   "metadata": {},
   "source": [
    "## Estructurar df etiquetado"
   ]
  },
  {
   "cell_type": "code",
   "execution_count": 17,
   "metadata": {},
   "outputs": [
    {
     "data": {
      "text/html": [
       "<div>\n",
       "<style scoped>\n",
       "    .dataframe tbody tr th:only-of-type {\n",
       "        vertical-align: middle;\n",
       "    }\n",
       "\n",
       "    .dataframe tbody tr th {\n",
       "        vertical-align: top;\n",
       "    }\n",
       "\n",
       "    .dataframe thead th {\n",
       "        text-align: right;\n",
       "    }\n",
       "</style>\n",
       "<table border=\"1\" class=\"dataframe\">\n",
       "  <thead>\n",
       "    <tr style=\"text-align: right;\">\n",
       "      <th></th>\n",
       "      <th>CO(GT)</th>\n",
       "      <th>PT08.S1(CO)</th>\n",
       "      <th>C6H6(GT)</th>\n",
       "      <th>PT08.S2(NMHC)</th>\n",
       "      <th>NOx(GT)</th>\n",
       "      <th>PT08.S3(NOx)</th>\n",
       "      <th>NO2(GT)</th>\n",
       "      <th>PT08.S4(NO2)</th>\n",
       "      <th>PT08.S5(O3)</th>\n",
       "      <th>T</th>\n",
       "      <th>RH</th>\n",
       "      <th>AH</th>\n",
       "      <th>Riesgo</th>\n",
       "    </tr>\n",
       "  </thead>\n",
       "  <tbody>\n",
       "    <tr>\n",
       "      <th>0</th>\n",
       "      <td>2.6</td>\n",
       "      <td>1360.0</td>\n",
       "      <td>11.9</td>\n",
       "      <td>1046.0</td>\n",
       "      <td>166.0</td>\n",
       "      <td>1056.0</td>\n",
       "      <td>113.0</td>\n",
       "      <td>1692.0</td>\n",
       "      <td>1268.0</td>\n",
       "      <td>13.6</td>\n",
       "      <td>48.9</td>\n",
       "      <td>0.7578</td>\n",
       "      <td>Alto</td>\n",
       "    </tr>\n",
       "    <tr>\n",
       "      <th>1</th>\n",
       "      <td>2.0</td>\n",
       "      <td>1292.0</td>\n",
       "      <td>9.4</td>\n",
       "      <td>955.0</td>\n",
       "      <td>103.0</td>\n",
       "      <td>1174.0</td>\n",
       "      <td>92.0</td>\n",
       "      <td>1559.0</td>\n",
       "      <td>972.0</td>\n",
       "      <td>13.3</td>\n",
       "      <td>47.7</td>\n",
       "      <td>0.7255</td>\n",
       "      <td>Moderado</td>\n",
       "    </tr>\n",
       "    <tr>\n",
       "      <th>2</th>\n",
       "      <td>2.2</td>\n",
       "      <td>1402.0</td>\n",
       "      <td>9.0</td>\n",
       "      <td>939.0</td>\n",
       "      <td>131.0</td>\n",
       "      <td>1140.0</td>\n",
       "      <td>114.0</td>\n",
       "      <td>1555.0</td>\n",
       "      <td>1074.0</td>\n",
       "      <td>11.9</td>\n",
       "      <td>54.0</td>\n",
       "      <td>0.7502</td>\n",
       "      <td>Alto</td>\n",
       "    </tr>\n",
       "    <tr>\n",
       "      <th>3</th>\n",
       "      <td>2.2</td>\n",
       "      <td>1376.0</td>\n",
       "      <td>9.2</td>\n",
       "      <td>948.0</td>\n",
       "      <td>172.0</td>\n",
       "      <td>1092.0</td>\n",
       "      <td>122.0</td>\n",
       "      <td>1584.0</td>\n",
       "      <td>1203.0</td>\n",
       "      <td>11.0</td>\n",
       "      <td>60.0</td>\n",
       "      <td>0.7867</td>\n",
       "      <td>Alto</td>\n",
       "    </tr>\n",
       "    <tr>\n",
       "      <th>4</th>\n",
       "      <td>1.6</td>\n",
       "      <td>1272.0</td>\n",
       "      <td>6.5</td>\n",
       "      <td>836.0</td>\n",
       "      <td>131.0</td>\n",
       "      <td>1205.0</td>\n",
       "      <td>116.0</td>\n",
       "      <td>1490.0</td>\n",
       "      <td>1110.0</td>\n",
       "      <td>11.2</td>\n",
       "      <td>59.6</td>\n",
       "      <td>0.7888</td>\n",
       "      <td>Alto</td>\n",
       "    </tr>\n",
       "  </tbody>\n",
       "</table>\n",
       "</div>"
      ],
      "text/plain": [
       "   CO(GT)  PT08.S1(CO)  C6H6(GT)  PT08.S2(NMHC)  NOx(GT)  PT08.S3(NOx)  \\\n",
       "0     2.6       1360.0      11.9         1046.0    166.0        1056.0   \n",
       "1     2.0       1292.0       9.4          955.0    103.0        1174.0   \n",
       "2     2.2       1402.0       9.0          939.0    131.0        1140.0   \n",
       "3     2.2       1376.0       9.2          948.0    172.0        1092.0   \n",
       "4     1.6       1272.0       6.5          836.0    131.0        1205.0   \n",
       "\n",
       "   NO2(GT)  PT08.S4(NO2)  PT08.S5(O3)     T    RH      AH    Riesgo  \n",
       "0    113.0        1692.0       1268.0  13.6  48.9  0.7578      Alto  \n",
       "1     92.0        1559.0        972.0  13.3  47.7  0.7255  Moderado  \n",
       "2    114.0        1555.0       1074.0  11.9  54.0  0.7502      Alto  \n",
       "3    122.0        1584.0       1203.0  11.0  60.0  0.7867      Alto  \n",
       "4    116.0        1490.0       1110.0  11.2  59.6  0.7888      Alto  "
      ]
     },
     "execution_count": 17,
     "metadata": {},
     "output_type": "execute_result"
    }
   ],
   "source": [
    "columnas_a_eliminar = ['Date', 'Time', 'CO_score', 'NO2_score', 'NOx_score', 'C6H6_score', 'NMHC_score']\n",
    "\n",
    "# Crear un nuevo DataFrame sin las columnas especificadas\n",
    "df_final = df.drop(columns=columnas_a_eliminar, errors='ignore').copy()\n",
    "\n",
    "df_final.head()"
   ]
  },
  {
   "cell_type": "code",
   "execution_count": null,
   "metadata": {},
   "outputs": [],
   "source": [
    "# Exportar csv\n",
    "df_final.to_csv('../data/data_labeled.csv', index=False)"
   ]
  }
 ],
 "metadata": {
  "kernelspec": {
   "display_name": "Python 3",
   "language": "python",
   "name": "python3"
  },
  "language_info": {
   "codemirror_mode": {
    "name": "ipython",
    "version": 3
   },
   "file_extension": ".py",
   "mimetype": "text/x-python",
   "name": "python",
   "nbconvert_exporter": "python",
   "pygments_lexer": "ipython3",
   "version": "3.12.1"
  }
 },
 "nbformat": 4,
 "nbformat_minor": 2
}
